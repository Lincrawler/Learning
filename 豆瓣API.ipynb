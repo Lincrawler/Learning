{
 "cells": [
  {
   "cell_type": "code",
   "execution_count": 3,
   "metadata": {
    "collapsed": true
   },
   "outputs": [],
   "source": [
    "import urllib.request as urlrequest\n",
    "import json\n",
    "id_list=[26387939,11803087,20451290]\n",
    "with open (\"doubanmovie.txt\",'w') as outputfile:\n",
    "    for id in id_list:\n",
    "        web_visit='https://api.douban.com/v2/movie/{}'.format(id)   \n",
    "        crawl_content=urlrequest.urlopen(web_visit).read()    #读取网址\n",
    "        load_content=json.loads(crawl_content.decode('utf8'))    #用json解析网址\n",
    "        rank=load_content['rating']['average']                    #找到位置\n",
    "        outputfile.write('{},{}\\n'.format(id,rank))    #z注意填入格式"
   ]
  }
 ],
 "metadata": {
  "kernelspec": {
   "display_name": "Python 3",
   "language": "python",
   "name": "python3"
  },
  "language_info": {
   "codemirror_mode": {
    "name": "ipython",
    "version": 3
   },
   "file_extension": ".py",
   "mimetype": "text/x-python",
   "name": "python",
   "nbconvert_exporter": "python",
   "pygments_lexer": "ipython3",
   "version": "3.6.2"
  }
 },
 "nbformat": 4,
 "nbformat_minor": 2
}
