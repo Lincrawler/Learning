{
 "cells": [
  {
   "cell_type": "code",
   "execution_count": 2,
   "metadata": {
    "collapsed": true
   },
   "outputs": [],
   "source": [
    "import pandas\n",
    "users=pandas.read_csv(\"train_users_2.csv\")"
   ]
  },
  {
   "cell_type": "code",
   "execution_count": 12,
   "metadata": {},
   "outputs": [
    {
     "data": {
      "text/html": [
       "<div>\n",
       "<style>\n",
       "    .dataframe thead tr:only-child th {\n",
       "        text-align: right;\n",
       "    }\n",
       "\n",
       "    .dataframe thead th {\n",
       "        text-align: left;\n",
       "    }\n",
       "\n",
       "    .dataframe tbody tr th {\n",
       "        vertical-align: top;\n",
       "    }\n",
       "</style>\n",
       "<table border=\"1\" class=\"dataframe\">\n",
       "  <thead>\n",
       "    <tr style=\"text-align: right;\">\n",
       "      <th></th>\n",
       "      <th>id</th>\n",
       "      <th>date_account_created</th>\n",
       "      <th>timestamp_first_active</th>\n",
       "      <th>date_first_booking</th>\n",
       "      <th>gender</th>\n",
       "      <th>age</th>\n",
       "      <th>signup_method</th>\n",
       "      <th>signup_flow</th>\n",
       "      <th>language</th>\n",
       "      <th>affiliate_channel</th>\n",
       "      <th>affiliate_provider</th>\n",
       "      <th>first_affiliate_tracked</th>\n",
       "      <th>signup_app</th>\n",
       "      <th>first_device_type</th>\n",
       "      <th>first_browser</th>\n",
       "      <th>country_destination</th>\n",
       "    </tr>\n",
       "  </thead>\n",
       "  <tbody>\n",
       "    <tr>\n",
       "      <th>0</th>\n",
       "      <td>gxn3p5htnn</td>\n",
       "      <td>2010-06-28</td>\n",
       "      <td>20090319043255</td>\n",
       "      <td>NaN</td>\n",
       "      <td>-unknown-</td>\n",
       "      <td>NaN</td>\n",
       "      <td>facebook</td>\n",
       "      <td>0</td>\n",
       "      <td>en</td>\n",
       "      <td>direct</td>\n",
       "      <td>direct</td>\n",
       "      <td>untracked</td>\n",
       "      <td>Web</td>\n",
       "      <td>Mac Desktop</td>\n",
       "      <td>Chrome</td>\n",
       "      <td>NDF</td>\n",
       "    </tr>\n",
       "    <tr>\n",
       "      <th>1</th>\n",
       "      <td>820tgsjxq7</td>\n",
       "      <td>2011-05-25</td>\n",
       "      <td>20090523174809</td>\n",
       "      <td>NaN</td>\n",
       "      <td>MALE</td>\n",
       "      <td>38.0</td>\n",
       "      <td>facebook</td>\n",
       "      <td>0</td>\n",
       "      <td>en</td>\n",
       "      <td>seo</td>\n",
       "      <td>google</td>\n",
       "      <td>untracked</td>\n",
       "      <td>Web</td>\n",
       "      <td>Mac Desktop</td>\n",
       "      <td>Chrome</td>\n",
       "      <td>NDF</td>\n",
       "    </tr>\n",
       "    <tr>\n",
       "      <th>2</th>\n",
       "      <td>4ft3gnwmtx</td>\n",
       "      <td>2010-09-28</td>\n",
       "      <td>20090609231247</td>\n",
       "      <td>2010-08-02</td>\n",
       "      <td>FEMALE</td>\n",
       "      <td>56.0</td>\n",
       "      <td>basic</td>\n",
       "      <td>3</td>\n",
       "      <td>en</td>\n",
       "      <td>direct</td>\n",
       "      <td>direct</td>\n",
       "      <td>untracked</td>\n",
       "      <td>Web</td>\n",
       "      <td>Windows Desktop</td>\n",
       "      <td>IE</td>\n",
       "      <td>US</td>\n",
       "    </tr>\n",
       "    <tr>\n",
       "      <th>3</th>\n",
       "      <td>bjjt8pjhuk</td>\n",
       "      <td>2011-12-05</td>\n",
       "      <td>20091031060129</td>\n",
       "      <td>2012-09-08</td>\n",
       "      <td>FEMALE</td>\n",
       "      <td>42.0</td>\n",
       "      <td>facebook</td>\n",
       "      <td>0</td>\n",
       "      <td>en</td>\n",
       "      <td>direct</td>\n",
       "      <td>direct</td>\n",
       "      <td>untracked</td>\n",
       "      <td>Web</td>\n",
       "      <td>Mac Desktop</td>\n",
       "      <td>Firefox</td>\n",
       "      <td>other</td>\n",
       "    </tr>\n",
       "    <tr>\n",
       "      <th>4</th>\n",
       "      <td>87mebub9p4</td>\n",
       "      <td>2010-09-14</td>\n",
       "      <td>20091208061105</td>\n",
       "      <td>2010-02-18</td>\n",
       "      <td>-unknown-</td>\n",
       "      <td>41.0</td>\n",
       "      <td>basic</td>\n",
       "      <td>0</td>\n",
       "      <td>en</td>\n",
       "      <td>direct</td>\n",
       "      <td>direct</td>\n",
       "      <td>untracked</td>\n",
       "      <td>Web</td>\n",
       "      <td>Mac Desktop</td>\n",
       "      <td>Chrome</td>\n",
       "      <td>US</td>\n",
       "    </tr>\n",
       "  </tbody>\n",
       "</table>\n",
       "</div>"
      ],
      "text/plain": [
       "           id date_account_created  timestamp_first_active date_first_booking  \\\n",
       "0  gxn3p5htnn           2010-06-28          20090319043255                NaN   \n",
       "1  820tgsjxq7           2011-05-25          20090523174809                NaN   \n",
       "2  4ft3gnwmtx           2010-09-28          20090609231247         2010-08-02   \n",
       "3  bjjt8pjhuk           2011-12-05          20091031060129         2012-09-08   \n",
       "4  87mebub9p4           2010-09-14          20091208061105         2010-02-18   \n",
       "\n",
       "      gender   age signup_method  signup_flow language affiliate_channel  \\\n",
       "0  -unknown-   NaN      facebook            0       en            direct   \n",
       "1       MALE  38.0      facebook            0       en               seo   \n",
       "2     FEMALE  56.0         basic            3       en            direct   \n",
       "3     FEMALE  42.0      facebook            0       en            direct   \n",
       "4  -unknown-  41.0         basic            0       en            direct   \n",
       "\n",
       "  affiliate_provider first_affiliate_tracked signup_app first_device_type  \\\n",
       "0             direct               untracked        Web       Mac Desktop   \n",
       "1             google               untracked        Web       Mac Desktop   \n",
       "2             direct               untracked        Web   Windows Desktop   \n",
       "3             direct               untracked        Web       Mac Desktop   \n",
       "4             direct               untracked        Web       Mac Desktop   \n",
       "\n",
       "  first_browser country_destination  \n",
       "0        Chrome                 NDF  \n",
       "1        Chrome                 NDF  \n",
       "2            IE                  US  \n",
       "3       Firefox               other  \n",
       "4        Chrome                  US  "
      ]
     },
     "execution_count": 12,
     "metadata": {},
     "output_type": "execute_result"
    }
   ],
   "source": [
    "users.head()"
   ]
  },
  {
   "cell_type": "code",
   "execution_count": 5,
   "metadata": {},
   "outputs": [
    {
     "data": {
      "text/plain": [
       "(213451, 16)"
      ]
     },
     "execution_count": 5,
     "metadata": {},
     "output_type": "execute_result"
    }
   ],
   "source": [
    "users.shape"
   ]
  },
  {
   "cell_type": "code",
   "execution_count": 13,
   "metadata": {},
   "outputs": [
    {
     "data": {
      "text/plain": [
       "Timedelta('-331 days +00:00:00')"
      ]
     },
     "execution_count": 13,
     "metadata": {},
     "output_type": "execute_result"
    }
   ],
   "source": [
    "users.loc[0,\"date_account_created\"]-users.loc[1,\"date_account_created\"]"
   ]
  },
  {
   "cell_type": "code",
   "execution_count": 3,
   "metadata": {
    "collapsed": true
   },
   "outputs": [],
   "source": [
    "users[\"timestamp_first_active\"]=pandas.to_datetime(users[\"timestamp_first_active\"],format=\"%Y%m%d%H%M%S\")  \n",
    "#注意md为小写"
   ]
  },
  {
   "cell_type": "code",
   "execution_count": 4,
   "metadata": {},
   "outputs": [
    {
     "data": {
      "text/plain": [
       "0        2009-03-19 04:32:55\n",
       "1        2009-05-23 17:48:09\n",
       "2        2009-06-09 23:12:47\n",
       "3        2009-10-31 06:01:29\n",
       "4        2009-12-08 06:11:05\n",
       "5        2010-01-01 21:56:19\n",
       "6        2010-01-02 01:25:58\n",
       "7        2010-01-03 19:19:05\n",
       "8        2010-01-04 00:42:11\n",
       "9        2010-01-04 02:37:58\n",
       "10       2010-01-04 19:42:51\n",
       "11       2010-01-05 05:18:12\n",
       "12       2010-01-05 06:08:59\n",
       "13       2010-01-05 08:32:59\n",
       "14       2010-01-07 05:58:20\n",
       "15       2010-01-07 20:45:55\n",
       "16       2010-01-07 21:51:25\n",
       "17       2010-01-07 22:46:25\n",
       "18       2010-01-08 01:56:41\n",
       "19       2010-01-10 01:08:17\n",
       "20       2010-01-10 15:21:20\n",
       "21       2010-01-10 22:09:41\n",
       "22       2010-01-11 03:14:38\n",
       "23       2010-01-11 22:40:15\n",
       "24       2010-01-11 23:08:08\n",
       "25       2010-01-12 13:14:44\n",
       "26       2010-01-12 15:54:20\n",
       "27       2010-01-12 20:59:49\n",
       "28       2010-01-13 04:46:50\n",
       "29       2010-01-13 06:43:33\n",
       "                 ...        \n",
       "213421   2014-06-30 23:11:37\n",
       "213422   2014-06-30 23:12:46\n",
       "213423   2014-06-30 23:15:48\n",
       "213424   2014-06-30 23:18:59\n",
       "213425   2014-06-30 23:21:19\n",
       "213426   2014-06-30 23:23:31\n",
       "213427   2014-06-30 23:25:39\n",
       "213428   2014-06-30 23:26:34\n",
       "213429   2014-06-30 23:27:12\n",
       "213430   2014-06-30 23:31:32\n",
       "213431   2014-06-30 23:32:03\n",
       "213432   2014-06-30 23:32:24\n",
       "213433   2014-06-30 23:34:27\n",
       "213434   2014-06-30 23:36:40\n",
       "213435   2014-06-30 23:38:51\n",
       "213436   2014-06-30 23:41:13\n",
       "213437   2014-06-30 23:42:43\n",
       "213438   2014-06-30 23:44:29\n",
       "213439   2014-06-30 23:47:29\n",
       "213440   2014-06-30 23:49:33\n",
       "213441   2014-06-30 23:51:51\n",
       "213442   2014-06-30 23:53:09\n",
       "213443   2014-06-30 23:53:40\n",
       "213444   2014-06-30 23:53:52\n",
       "213445   2014-06-30 23:55:47\n",
       "213446   2014-06-30 23:56:36\n",
       "213447   2014-06-30 23:57:19\n",
       "213448   2014-06-30 23:57:54\n",
       "213449   2014-06-30 23:58:22\n",
       "213450   2014-06-30 23:58:24\n",
       "Name: timestamp_first_active, Length: 213451, dtype: datetime64[ns]"
      ]
     },
     "execution_count": 4,
     "metadata": {},
     "output_type": "execute_result"
    }
   ],
   "source": [
    "users[\"timestamp_first_active\"]"
   ]
  },
  {
   "cell_type": "code",
   "execution_count": 5,
   "metadata": {},
   "outputs": [
    {
     "data": {
      "text/plain": [
       "<matplotlib.axes._subplots.AxesSubplot at 0x1c1208f1128>"
      ]
     },
     "execution_count": 5,
     "metadata": {},
     "output_type": "execute_result"
    },
    {
     "data": {
      "image/png": "[encoded data removed]",
      "text/plain": [
       "<matplotlib.figure.Figure at 0x1c123244780>"
      ]
     },
     "metadata": {},
     "output_type": "display_data"
    }
   ],
   "source": [
    "import seaborn\n",
    "%matplotlib inline\n",
    "user_true=users[users[\"age\"]<90]\n",
    "user_true=user_true[user_true[\"age\"]>10]\n",
    "seaborn.distplot(user_true[\"age\"])"
   ]
  },
  {
   "cell_type": "code",
   "execution_count": 8,
   "metadata": {},
   "outputs": [],
   "source": [
    "%matplotlib inline\n",
    "users2=users.groupby('first_browser')"
   ]
  },
  {
   "cell_type": "code",
   "execution_count": 17,
   "metadata": {},
   "outputs": [
    {
     "data": {
      "text/plain": [
       "first_browser\n",
       "-unknown-               27266\n",
       "AOL Explorer              245\n",
       "Android Browser           851\n",
       "Apple Mail                 36\n",
       "Arora                       1\n",
       "Avant Browser               4\n",
       "BlackBerry Browser         53\n",
       "Camino                      9\n",
       "Chrome                  63845\n",
       "Chrome Mobile            1270\n",
       "Chromium                   73\n",
       "CometBird                  11\n",
       "Comodo Dragon               2\n",
       "Conkeror                    1\n",
       "CoolNovo                    6\n",
       "Crazy Browser               2\n",
       "Epic                        1\n",
       "Firefox                 33655\n",
       "Flock                       2\n",
       "Google Earth                1\n",
       "Googlebot                   1\n",
       "IE                      21068\n",
       "IE Mobile                  36\n",
       "IceDragon                   1\n",
       "IceWeasel                  13\n",
       "Iron                       17\n",
       "Kindle Browser              1\n",
       "Maxthon                    46\n",
       "Mobile Firefox             30\n",
       "Mobile Safari           19274\n",
       "Mozilla                     3\n",
       "NetNewsWire                 1\n",
       "OmniWeb                     2\n",
       "Opera                     188\n",
       "Opera Mini                  4\n",
       "Opera Mobile                2\n",
       "Outlook 2007                1\n",
       "PS Vita browser             1\n",
       "Pale Moon                  12\n",
       "Palm Pre web browser        1\n",
       "RockMelt                   24\n",
       "Safari                  45169\n",
       "SeaMonkey                  11\n",
       "Silk                      124\n",
       "SiteKiosk                  24\n",
       "SlimBrowser                 2\n",
       "Sogou Explorer             33\n",
       "Stainless                   1\n",
       "TenFourFox                  8\n",
       "TheWorld Browser            2\n",
       "Yandex.Browser             11\n",
       "wOSBrowser                  6\n",
       "dtype: int64"
      ]
     },
     "execution_count": 17,
     "metadata": {},
     "output_type": "execute_result"
    }
   ],
   "source": [
    "x=users2.size()\n"
   ]
  },
  {
   "cell_type": "code",
   "execution_count": null,
   "metadata": {
    "collapsed": true
   },
   "outputs": [],
   "source": [
    "import numpy as np\n",
    "import seaborn as sns\n",
    "sns.set(style=\"white\") #设置绘图背景\n",
    "\n",
    "# Load the example planets dataset\n",
    "planets = sns.load_dataset(\"planets\")\n",
    "\n",
    "# Make a range of years to show categories with no observations\n",
    "years = np.arange(2000, 2015) #生成2000-2015连续整数\n",
    "\n",
    "# Draw a count plot to show the number of planets discovered each year\n",
    "#选择调色板，绘图参数与顺序，factorplot一种分类变量的集合作图方式，利用kind选择bar、plot等绘图参数以后将具体介绍\n",
    "g = sns.factorplot(x=\"year\", data=planets, kind=\"count\",\n",
    "                   palette=\"BuPu\", size=6, aspect=1.5, order=years)\n",
    "g.set_xticklabels(step=2) #设置x轴标签间距为2年"
   ]
  }
 ],
 "metadata": {
  "kernelspec": {
   "display_name": "Python 3",
   "language": "python",
   "name": "python3"
  },
  "language_info": {
   "codemirror_mode": {
    "name": "ipython",
    "version": 3
   },
   "file_extension": ".py",
   "mimetype": "text/x-python",
   "name": "python",
   "nbconvert_exporter": "python",
   "pygments_lexer": "ipython3",
   "version": "3.6.2"
  }
 },
 "nbformat": 4,
 "nbformat_minor": 2
}
