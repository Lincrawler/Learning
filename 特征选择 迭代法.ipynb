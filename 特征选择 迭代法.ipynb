{
 "cells": [
  {
   "cell_type": "code",
   "execution_count": 25,
   "metadata": {},
   "outputs": [
    {
     "name": "stdout",
     "output_type": "stream",
     "text": [
      "select petal_width acc: 0.853333333333\n",
      "select sepal_width acc: 0.94\n",
      "select petal_length acc: 0.953333333333\n",
      "select sepal_length acc: 0.96\n",
      "best feature set:  ['petal_width', 'sepal_width', 'petal_length', 'sepal_length'] acc:  0.96\n"
     ]
    }
   ],
   "source": [
    "import pandas\n",
    "import numpy as np\n",
    "from sklearn import linear_model\n",
    "from sklearn.model_selection import cross_val_score\n",
    "from sklearn.preprocessing import LabelEncoder\n",
    "\n",
    "iris=pandas.read_csv('IRIS.csv')\n",
    "le=LabelEncoder()\n",
    "le.fit(iris['species'])\n",
    "y=le.transform(iris['species'])\n",
    "\n",
    "features=['sepal_length','sepal_width','petal_length','petal_width']\n",
    "lm=linear_model.LogisticRegression()\n",
    "\n",
    "selected_features = []\n",
    "rest_features = features[:]\n",
    "best_acc = 0\n",
    "while len(rest_features)>0:\n",
    "    temp_best_i = ''\n",
    "    temp_best_acc = 0\n",
    "    for feature_i in rest_features:\n",
    "        temp_features = selected_features + [feature_i,]\n",
    "        X = iris[temp_features]\n",
    "        scores = cross_val_score(lm,X,y,cv=5 , scoring='accuracy')\n",
    "        acc = np.mean(scores)\n",
    "        if acc > temp_best_acc:\n",
    "            temp_best_acc = acc\n",
    "            temp_best_i = feature_i\n",
    "    print(\"select\",temp_best_i,\"acc:\",temp_best_acc)\n",
    "    if temp_best_acc > best_acc:\n",
    "        best_acc = temp_best_acc\n",
    "        selected_features += [temp_best_i,]\n",
    "        rest_features.remove(temp_best_i)\n",
    "    else: \n",
    "        break\n",
    "print(\"best feature set: \",selected_features,\"acc: \",best_acc)"
   ]
  },
  {
   "cell_type": "code",
   "execution_count": 18,
   "metadata": {},
   "outputs": [
    {
     "name": "stdout",
     "output_type": "stream",
     "text": [
      "select PetalWidthCm acc: 0.853333333333\n",
      "select SepalWidthCm acc: 0.94\n",
      "select PetalLengthCm acc: 0.953333333333\n",
      "select SepalLengthCm acc: 0.96\n",
      "best feature set:  ['PetalWidthCm', 'SepalWidthCm', 'PetalLengthCm', 'SepalLengthCm'] acc:  0.96\n"
     ]
    }
   ],
   "source": [
    "import pandas\n",
    "import numpy as np\n",
    "from sklearn import linear_model\n",
    "from sklearn.model_selection import cross_val_score\n",
    "from sklearn.preprocessing import LabelEncoder\n",
    "\n",
    "iris =pandas.read_csv('http://archive.ics.uci.edu/ml/machine-learning-databases/iris/iris.data',header=None)\n",
    "iris.columns=['SepalLengthCm','SepalWidthCm','PetalLengthCm','PetalWidthCm','Species']\n",
    "le = LabelEncoder()\n",
    "le.fit(iris['Species'])\n",
    "lm = linear_model.LogisticRegression()\n",
    "features = ['PetalLengthCm','PetalWidthCm','SepalLengthCm','SepalWidthCm']\n",
    "y = le.transform(iris['Species'])\n",
    "\n",
    "selected_features = []\n",
    "rest_features = features[:]\n",
    "best_acc = 0\n",
    "while len(rest_features)>0:\n",
    "    temp_best_i = ''\n",
    "    temp_best_acc = 0\n",
    "    for feature_i in rest_features:\n",
    "        temp_features = selected_features + [feature_i,]\n",
    "        X = iris[temp_features]\n",
    "        scores = cross_val_score(lm,X,y,cv=5 , scoring='accuracy')\n",
    "        acc = np.mean(scores)\n",
    "        if acc > temp_best_acc:\n",
    "            temp_best_acc = acc\n",
    "            temp_best_i = feature_i\n",
    "    print(\"select\",temp_best_i,\"acc:\",temp_best_acc)\n",
    "    if temp_best_acc > best_acc:\n",
    "        best_acc = temp_best_acc\n",
    "        selected_features += [temp_best_i,]\n",
    "        rest_features.remove(temp_best_i)\n",
    "    else: \n",
    "        break\n",
    "print(\"best feature set: \",selected_features,\"acc: \",best_acc)"
   ]
  },
  {
   "cell_type": "code",
   "execution_count": null,
   "metadata": {
    "collapsed": true
   },
   "outputs": [],
   "source": []
  }
 ],
 "metadata": {
  "kernelspec": {
   "display_name": "Python 3",
   "language": "python",
   "name": "python3"
  },
  "language_info": {
   "codemirror_mode": {
    "name": "ipython",
    "version": 3
   },
   "file_extension": ".py",
   "mimetype": "text/x-python",
   "name": "python",
   "nbconvert_exporter": "python",
   "pygments_lexer": "ipython3",
   "version": "3.6.2"
  }
 },
 "nbformat": 4,
 "nbformat_minor": 2
}
