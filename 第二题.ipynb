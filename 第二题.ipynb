{
 "cells": [
  {
   "cell_type": "code",
   "execution_count": 2,
   "metadata": {},
   "outputs": [
    {
     "data": {
      "text/html": [
       "<div>\n",
       "<style scoped>\n",
       "    .dataframe tbody tr th:only-of-type {\n",
       "        vertical-align: middle;\n",
       "    }\n",
       "\n",
       "    .dataframe tbody tr th {\n",
       "        vertical-align: top;\n",
       "    }\n",
       "\n",
       "    .dataframe thead th {\n",
       "        text-align: right;\n",
       "    }\n",
       "</style>\n",
       "<table border=\"1\" class=\"dataframe\">\n",
       "  <thead>\n",
       "    <tr style=\"text-align: right;\">\n",
       "      <th></th>\n",
       "      <th>Sex</th>\n",
       "      <th>No. of Transactions</th>\n",
       "      <th>Monthly Payment</th>\n",
       "      <th>No. of months in Silver</th>\n",
       "      <th>Decision</th>\n",
       "    </tr>\n",
       "    <tr>\n",
       "      <th>Customer No.</th>\n",
       "      <th></th>\n",
       "      <th></th>\n",
       "      <th></th>\n",
       "      <th></th>\n",
       "      <th></th>\n",
       "    </tr>\n",
       "  </thead>\n",
       "  <tbody>\n",
       "    <tr>\n",
       "      <th>1</th>\n",
       "      <td>0</td>\n",
       "      <td>8</td>\n",
       "      <td>301</td>\n",
       "      <td>4</td>\n",
       "      <td>Remain</td>\n",
       "    </tr>\n",
       "    <tr>\n",
       "      <th>2</th>\n",
       "      <td>1</td>\n",
       "      <td>18</td>\n",
       "      <td>448</td>\n",
       "      <td>8</td>\n",
       "      <td>Downgrade</td>\n",
       "    </tr>\n",
       "    <tr>\n",
       "      <th>3</th>\n",
       "      <td>0</td>\n",
       "      <td>5</td>\n",
       "      <td>305</td>\n",
       "      <td>9</td>\n",
       "      <td>Remain</td>\n",
       "    </tr>\n",
       "    <tr>\n",
       "      <th>4</th>\n",
       "      <td>1</td>\n",
       "      <td>3</td>\n",
       "      <td>309</td>\n",
       "      <td>6</td>\n",
       "      <td>Downgrade</td>\n",
       "    </tr>\n",
       "    <tr>\n",
       "      <th>5</th>\n",
       "      <td>0</td>\n",
       "      <td>11</td>\n",
       "      <td>522</td>\n",
       "      <td>10</td>\n",
       "      <td>Remain</td>\n",
       "    </tr>\n",
       "  </tbody>\n",
       "</table>\n",
       "</div>"
      ],
      "text/plain": [
       "              Sex  No. of Transactions  Monthly Payment  \\\n",
       "Customer No.                                              \n",
       "1               0                    8              301   \n",
       "2               1                   18              448   \n",
       "3               0                    5              305   \n",
       "4               1                    3              309   \n",
       "5               0                   11              522   \n",
       "\n",
       "              No. of months in Silver   Decision  \n",
       "Customer No.                                      \n",
       "1                                   4     Remain  \n",
       "2                                   8  Downgrade  \n",
       "3                                   9     Remain  \n",
       "4                                   6  Downgrade  \n",
       "5                                  10     Remain  "
      ]
     },
     "execution_count": 2,
     "metadata": {},
     "output_type": "execute_result"
    }
   ],
   "source": [
    "import pandas as pd\n",
    "import numpy as np\n",
    "df=pd.read_csv(\"AI2.csv\",index_col=0)\n",
    "df.head()\n",
    "\n"
   ]
  },
  {
   "cell_type": "code",
   "execution_count": 38,
   "metadata": {},
   "outputs": [
    {
     "data": {
      "text/plain": [
       "(15, 5)"
      ]
     },
     "execution_count": 38,
     "metadata": {},
     "output_type": "execute_result"
    }
   ],
   "source": [
    "df.shape\n"
   ]
  },
  {
   "cell_type": "code",
   "execution_count": 31,
   "metadata": {},
   "outputs": [
    {
     "name": "stdout",
     "output_type": "stream",
     "text": [
      "[1 0 1 0 1 0 2 2 0 2 0 2 1 1 1]\n"
     ]
    }
   ],
   "source": [
    "from sklearn.preprocessing import LabelEncoder\n",
    "le=LabelEncoder()\n",
    "le.fit(df['Decision'])\n",
    "y=le.transform(df['Decision'])\n",
    "print(y)  #remain是1 downgrade 0, upgrade 2"
   ]
  },
  {
   "cell_type": "code",
   "execution_count": 65,
   "metadata": {},
   "outputs": [
    {
     "name": "stdout",
     "output_type": "stream",
     "text": [
      "[1.3777777777777775, 1.4944444444444445, 1.4944444444444445, 1.038888888888889, 0.7055555555555556, 0.9388888888888888, 1.038888888888889, 1.038888888888889, 0.5888888888888889]\n",
      "[0.18888888888888888, 0.12222222222222223, 0.12222222222222223, 0.41111111111111115, 0.49444444444444446, 0.2611111111111111, 0.41111111111111115, 0.41111111111111115, 0.41111111111111115]\n"
     ]
    }
   ],
   "source": [
    "features=['Sex','No. of Transactions','Monthly Payment','No. of months in Silver']\n",
    "X=df[features]\n",
    "from sklearn import neighbors\n",
    "from sklearn.model_selection import cross_val_score\n",
    "import numpy as np\n",
    "scores=[]\n",
    "k_accuracy = []\n",
    "k_range=range(1,10)\n",
    "for k in k_range:\n",
    "    knn=KNeighborsClassifier(n_neighbors=k,weights='uniform')\n",
    "    accuracy = cross_val_score(knn,X,y,cv=3,scoring='accuracy')\n",
    "    score=-cross_val_score(knn,X,y,cv=3,scoring='neg_mean_squared_error')\n",
    "    scores.append(np.mean(score))\n",
    "    k_accuracy.append(accuracy.mean())#计算均值得分\n",
    "print(scores)\n",
    "print(k_accuracy)"
   ]
  },
  {
   "cell_type": "code",
   "execution_count": 61,
   "metadata": {},
   "outputs": [
    {
     "data": {
      "image/png": "[encoded data removed]",
      "text/plain": [
       "<Figure size 432x288 with 1 Axes>"
      ]
     },
     "metadata": {
      "needs_background": "light"
     },
     "output_type": "display_data"
    }
   ],
   "source": [
    "import matplotlib.pyplot as plt    \n",
    "\n",
    "plt.plot(k_range, scores)\n",
    "plt.title('neg_mean_error')  \n",
    "plt.xlabel('K Value')  \n",
    "plt.ylabel('Cross-Validate Loss')  \n",
    "plt.show()"
   ]
  },
  {
   "cell_type": "code",
   "execution_count": 66,
   "metadata": {},
   "outputs": [
    {
     "data": {
      "image/png": "[encoded data removed]",
      "text/plain": [
       "<Figure size 432x288 with 1 Axes>"
      ]
     },
     "metadata": {
      "needs_background": "light"
     },
     "output_type": "display_data"
    }
   ],
   "source": [
    "plt.plot(k_range, k_accuracy)\n",
    "plt.title('accuracy')  \n",
    "plt.xlabel('K Value')  \n",
    "plt.ylabel('Cross-Validate accuracy')  \n",
    "plt.show()"
   ]
  },
  {
   "cell_type": "code",
   "execution_count": null,
   "metadata": {},
   "outputs": [],
   "source": []
  }
 ],
 "metadata": {
  "kernelspec": {
   "display_name": "Python 3",
   "language": "python",
   "name": "python3"
  },
  "language_info": {
   "codemirror_mode": {
    "name": "ipython",
    "version": 3
   },
   "file_extension": ".py",
   "mimetype": "text/x-python",
   "name": "python",
   "nbconvert_exporter": "python",
   "pygments_lexer": "ipython3",
   "version": "3.6.6"
  }
 },
 "nbformat": 4,
 "nbformat_minor": 2
}
