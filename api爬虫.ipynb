{
 "cells": [
  {
   "cell_type": "code",
   "execution_count": 1,
   "metadata": {},
   "outputs": [
    {
     "name": "stdout",
     "output_type": "stream",
     "text": [
      "{\"rating\": {\"max\": 10, \"average\": \"9.1\", \"numRaters\": 462855, \"min\": 0}, \"author\": [{\"name\": \"涅提·蒂瓦里 Nitesh Tiwari\"}], \"alt_title\": \"摔跤吧！爸爸 \\/ 我和我的冠军女儿(台)\", \"image\": \"https://img3.doubanio.com\\/view\\/photo\\/s_ratio_poster\\/public\\/p2457983084.jpg\", \"title\": \"Dangal\", \"summary\": \"马哈维亚（阿米尔·汗 Aamir Khan 饰）曾经是一名前途无量的摔跤运动员，在放弃了职业生涯后，他最大的遗憾就是没有能够替国家赢得金牌。马哈维亚将这份希望寄托在了尚未出生的儿子身上，哪知道妻子接连给他生了两个女儿，取名吉塔（法缇玛·萨那·纱卡 Fatima Sana Shaikh 饰）和巴比塔（桑亚·玛荷塔 Sanya Malhotra 饰）。让马哈维亚没有想到的是，两个姑娘展现出了杰出的摔跤天赋，让他幡然醒悟，就算是女孩，也能够昂首挺胸的站在比赛场上，为了国家和她们自己赢得荣誉。\n",
      "就这样，在马哈维亚的指导下，吉塔和巴比塔开始了艰苦的训练，两人进步神速，很快就因为在比赛中连连获胜而成为了当地的名人。为了获得更多的机会，吉塔进入了国家体育学院学习，在那里，她将面对更大的诱惑和更多的选择。\", \"attrs\": {\"language\": [\"印地语\"], \"pubdate\": [\"2016-12-23(印度)\", \"2017-05-05(中国大陆)\"], \"title\": [\"Dangal\"], \"country\": [\"印度\"], \"writer\": [\"比于什·古普塔 Piyush Gupta\", \"施热亚·简 Shreyas Jain\", \"尼基尔·麦罗特拉 Nikhil Mehrotra\", \"涅提·蒂瓦里 Nitesh Tiwari\"], \"director\": [\"涅提·蒂瓦里 Nitesh Tiwari\"], \"cast\": [\"阿米尔·汗 Aamir Khan\", \"法缇玛·萨那·纱卡 Fatima Sana Shaikh\", \"桑亚·玛荷塔 Sanya Malhotra\", \"阿帕尔夏克提·库拉那 Aparshakti Khurana\", \"沙克希·坦沃 Sakshi Tanwar\", \"泽伊拉·沃西姆 Zaira Wasim\", \"苏哈妮·巴特纳格尔 Suhani Bhatnagar\", \"里特维克·萨霍里 Ritwik Sahore\", \"吉里什·库卡尼 Girish Kulkarni\"], \"movie_duration\": [\"161分钟(印度)\", \"140分钟(中国大陆)\"], \"year\": [\"2016\"], \"movie_type\": [\"剧情\", \"传记\", \"运动\", \"家庭\"]}, \"id\": \"https:\\/\\/api.douban.com\\/movie\\/26387939\", \"mobile_link\": \"https:\\/\\/m.douban.com\\/movie\\/subject\\/26387939\\/\", \"alt\": \"https:\\/\\/movie.douban.com\\/movie\\/26387939\", \"tags\": [{\"count\": 103639, \"name\": \"励志\"}, {\"count\": 94992, \"name\": \"印度\"}, {\"count\": 63504, \"name\": \"成长\"}, {\"count\": 59888, \"name\": \"亲情\"}, {\"count\": 48274, \"name\": \"体育\"}, {\"count\": 47606, \"name\": \"女权\"}, {\"count\": 44317, \"name\": \"女性\"}, {\"count\": 41818, \"name\": \"运动\"}]}\n",
      "9.1\n",
      "C:\\Users\\Administrator\\爬去的评分.txt\n"
     ]
    },
    {
     "name": "stderr",
     "output_type": "stream",
     "text": [
      "E:\\PY3.5\\envs\\course_py35\\lib\\site-packages\\ipykernel_launcher.py:5: DeprecationWarning: invalid escape sequence '\\/'\n",
      "  \"\"\"\n"
     ]
    }
   ],
   "source": [
    "#获取api\n",
    "import urllib.request as urlquest\n",
    "url_web='https://api.douban.com/v2/movie/26387939'\n",
    "url_content=urlquest.urlopen(url_web).read()\n",
    "print(url_content.decode(\"unicode-escape\"))\n",
    "#调用json解析\n",
    "import json\n",
    "json_content=json.loads(url_content.decode(\"utf8\"))\n",
    "rating=json_content['rating']['average']   #先找到第一个目录\n",
    "print(rating)\n",
    "#下载下来\n",
    "id=26387939\n",
    "with open(\"爬去的评分.txt\",\"w\") as openfile:\n",
    "    openfile.write(\"{},{}\\n\".format(id,rating))\n",
    "import os  \n",
    "import sys  \n",
    "print(os.path.abspath('爬去的评分.txt'))  "
   ]
  },
  {
   "cell_type": "code",
   "execution_count": null,
   "metadata": {
    "collapsed": true
   },
   "outputs": [],
   "source": []
  }
 ],
 "metadata": {
  "kernelspec": {
   "display_name": "Python 3",
   "language": "python",
   "name": "python3"
  },
  "language_info": {
   "codemirror_mode": {
    "name": "ipython",
    "version": 3
   },
   "file_extension": ".py",
   "mimetype": "text/x-python",
   "name": "python",
   "nbconvert_exporter": "python",
   "pygments_lexer": "ipython3",
   "version": "3.6.2"
  }
 },
 "nbformat": 4,
 "nbformat_minor": 2
}
