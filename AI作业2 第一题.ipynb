{
 "cells": [
  {
   "cell_type": "code",
   "execution_count": 1,
   "metadata": {},
   "outputs": [],
   "source": [
    "import pandas as pd\n",
    "import numpy as np\n",
    "data=pd.read_csv('AI33.csv')"
   ]
  },
  {
   "cell_type": "code",
   "execution_count": 2,
   "metadata": {},
   "outputs": [
    {
     "data": {
      "text/html": [
       "<div>\n",
       "<style scoped>\n",
       "    .dataframe tbody tr th:only-of-type {\n",
       "        vertical-align: middle;\n",
       "    }\n",
       "\n",
       "    .dataframe tbody tr th {\n",
       "        vertical-align: top;\n",
       "    }\n",
       "\n",
       "    .dataframe thead th {\n",
       "        text-align: right;\n",
       "    }\n",
       "</style>\n",
       "<table border=\"1\" class=\"dataframe\">\n",
       "  <thead>\n",
       "    <tr style=\"text-align: right;\">\n",
       "      <th></th>\n",
       "      <th>Age</th>\n",
       "      <th>Sex</th>\n",
       "      <th>Monthly Income</th>\n",
       "      <th>Marital</th>\n",
       "      <th>Service</th>\n",
       "      <th>Extra</th>\n",
       "    </tr>\n",
       "  </thead>\n",
       "  <tbody>\n",
       "    <tr>\n",
       "      <th>0</th>\n",
       "      <td>54</td>\n",
       "      <td>0</td>\n",
       "      <td>3000</td>\n",
       "      <td>1</td>\n",
       "      <td>100</td>\n",
       "      <td>0</td>\n",
       "    </tr>\n",
       "    <tr>\n",
       "      <th>1</th>\n",
       "      <td>59</td>\n",
       "      <td>0</td>\n",
       "      <td>4000</td>\n",
       "      <td>0</td>\n",
       "      <td>600</td>\n",
       "      <td>54</td>\n",
       "    </tr>\n",
       "    <tr>\n",
       "      <th>2</th>\n",
       "      <td>38</td>\n",
       "      <td>1</td>\n",
       "      <td>7800</td>\n",
       "      <td>0</td>\n",
       "      <td>200</td>\n",
       "      <td>31</td>\n",
       "    </tr>\n",
       "    <tr>\n",
       "      <th>3</th>\n",
       "      <td>18</td>\n",
       "      <td>0</td>\n",
       "      <td>8500</td>\n",
       "      <td>0</td>\n",
       "      <td>600</td>\n",
       "      <td>311</td>\n",
       "    </tr>\n",
       "    <tr>\n",
       "      <th>4</th>\n",
       "      <td>27</td>\n",
       "      <td>1</td>\n",
       "      <td>14000</td>\n",
       "      <td>1</td>\n",
       "      <td>100</td>\n",
       "      <td>211</td>\n",
       "    </tr>\n",
       "  </tbody>\n",
       "</table>\n",
       "</div>"
      ],
      "text/plain": [
       "   Age   Sex   Monthly Income   Marital   Service   Extra \n",
       "0    54     0             3000         1       100       0\n",
       "1    59     0             4000         0       600      54\n",
       "2    38     1             7800         0       200      31\n",
       "3    18     0             8500         0       600     311\n",
       "4    27     1            14000         1       100     211"
      ]
     },
     "execution_count": 2,
     "metadata": {},
     "output_type": "execute_result"
    }
   ],
   "source": [
    "\n",
    "data.head()"
   ]
  },
  {
   "cell_type": "code",
   "execution_count": 4,
   "metadata": {},
   "outputs": [
    {
     "name": "stderr",
     "output_type": "stream",
     "text": [
      "/srv/conda/lib/python3.6/site-packages/sklearn/cluster/k_means_.py:896: RuntimeWarning: Explicit initial center position passed: performing only one init in k-means instead of n_init=10\n",
      "  return_n_iter=True)\n"
     ]
    },
    {
     "data": {
      "text/plain": [
       "array([0, 0, 1, 1, 1, 2, 1, 1, 2, 2, 2, 2, 2, 1, 1], dtype=int32)"
      ]
     },
     "execution_count": 4,
     "metadata": {},
     "output_type": "execute_result"
    }
   ],
   "source": [
    "from sklearn.cluster import KMeans\n",
    "startpts = np.array([[54, 0, 3000, 1,100,0],\n",
    "                     [22, 0, 7900, 0,200,31],\n",
    "                     [22, 1, 18000, 1,400,303]])\n",
    "km=KMeans(3,init=startpts)\n",
    "\n",
    "X=data[['Age ', 'Sex ', 'Monthly Income ', 'Marital ', 'Service ','Extra ']]\n",
    "km.fit(X)\n",
    "km.predict(X)"
   ]
  },
  {
   "cell_type": "code",
   "execution_count": 7,
   "metadata": {},
   "outputs": [
    {
     "name": "stdout",
     "output_type": "stream",
     "text": [
      "[[0.88095238 0.         0.         1.         0.         0.        ]\n",
      " [1.         0.         0.02666667 0.         0.33333333 0.17363344]\n",
      " [0.5        1.         0.128      0.         0.06666667 0.09967846]\n",
      " [0.02380952 0.         0.14666667 0.         0.33333333 1.        ]\n",
      " [0.23809524 1.         0.29333333 1.         0.         0.67845659]\n",
      " [0.28571429 0.         0.74666667 1.         1.         0.08038585]\n",
      " [0.         1.         0.12       0.         0.33333333 0.81672026]\n",
      " [0.11904762 0.         0.13066667 0.         0.06666667 0.09967846]\n",
      " [0.4047619  1.         0.57866667 0.         0.         0.02250804]\n",
      " [0.69047619 0.         0.7496     1.         0.33333333 0.        ]\n",
      " [0.52380952 0.         0.48       1.         0.46666667 0.20578778]\n",
      " [0.42857143 0.         0.72       0.         1.         0.        ]\n",
      " [0.52380952 1.         1.         1.         1.         0.1607717 ]\n",
      " [0.02380952 1.         0.128      0.         0.6        0.93247588]\n",
      " [0.11904762 1.         0.4        1.         0.2        0.97427653]]\n"
     ]
    }
   ],
   "source": [
    "from sklearn import preprocessing\n",
    "min_max_scaler=preprocessing.MinMaxScaler()\n",
    "X_trans=min_max_scaler.fit_transform(X)\n",
    "print(X_trans)"
   ]
  },
  {
   "cell_type": "code",
   "execution_count": 9,
   "metadata": {},
   "outputs": [
    {
     "name": "stderr",
     "output_type": "stream",
     "text": [
      "/srv/conda/lib/python3.6/site-packages/sklearn/cluster/k_means_.py:896: RuntimeWarning: Explicit initial center position passed: performing only one init in k-means instead of n_init=10\n",
      "  return_n_iter=True)\n"
     ]
    },
    {
     "data": {
      "text/plain": [
       "array([0, 1, 1, 1, 2, 0, 2, 1, 1, 0, 0, 1, 2, 2, 2], dtype=int32)"
      ]
     },
     "execution_count": 9,
     "metadata": {},
     "output_type": "execute_result"
    }
   ],
   "source": [
    "startpts2 = np.array([[0.88095238, 0, 0,1,0,0],\n",
    "                     [0.11904762,0,0.13066667,0,0.06666667,0.09967846],\n",
    "                     [0.11904762,1, 0.4,1,0.2,0.97427653]])\n",
    "km2=KMeans(3,init=startpts2)\n",
    "\n",
    "km2.fit(X_trans)\n",
    "km2.predict(X_trans)"
   ]
  },
  {
   "cell_type": "code",
   "execution_count": null,
   "metadata": {},
   "outputs": [],
   "source": []
  }
 ],
 "metadata": {
  "kernelspec": {
   "display_name": "Python 3",
   "language": "python",
   "name": "python3"
  },
  "language_info": {
   "codemirror_mode": {
    "name": "ipython",
    "version": 3
   },
   "file_extension": ".py",
   "mimetype": "text/x-python",
   "name": "python",
   "nbconvert_exporter": "python",
   "pygments_lexer": "ipython3",
   "version": "3.6.6"
  }
 },
 "nbformat": 4,
 "nbformat_minor": 2
}
