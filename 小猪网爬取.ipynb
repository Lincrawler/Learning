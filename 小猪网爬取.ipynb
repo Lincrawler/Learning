{
 "cells": [
  {
   "cell_type": "code",
   "execution_count": 24,
   "metadata": {},
   "outputs": [
    {
     "name": "stdout",
     "output_type": "stream",
     "text": [
      "http://new.qq.com/omn/20180201A07KJJ.htmlUzi和Deft是最强AD？小昭：我觉得应该是我\n",
      "\n",
      "http://new.qq.com/omn/20180202A0IILE.htmlKPL春季赛转会挂牌名单公布 战队核心小渝、老帅在列\n",
      "\n",
      "http://new.qq.com/omn/20180202A0AXO6.htmlSKT遭遇四连败积分垫底 网友：Marin可以超级加倍了\n",
      "\n",
      "http://new.qq.com/omn/20180202A08L6I.html《最终幻想15》PC版Steam售价公布 你能接受吗？\n",
      "\n",
      "http://new.qq.com/omn/20180202A0QZXL.html杨幂新赛季冲分王者荣耀 狂虐王者大神\n",
      "\n",
      "http://new.qq.com/omn/20180131B1CXV2.html米勒指出RNG最大问题：每条线的对线能力都下降了\n",
      "\n",
      "http://new.qq.com/omn/20180131A0YM0Z.html蛇哥自证现场现“大咖” 网友：是马老师吗？\n",
      "\n",
      "http://new.qq.com/omn/20180131A0TSS1.htmlSKT遭遇4连败 被LCK垫底队伍2-1击败\n",
      "\n",
      "http://new.qq.com/omn/20180131A0E0CP.html11区小哥Cos《海贼王》黑胡子 \n",
      "\n",
      "http://new.qq.com/omn/20180202A0MMY7.htmlLOL职业圈野辅双修第一人，Wolf或成SKT最关键一环\n",
      "\n",
      "http://new.qq.com/omn/20180202A0NXC8.html任天堂社长：希望Switch长卖，至少5到6年\n",
      "\n",
      "http://new.qq.com/omn/20180202A0MGC8.html索尼游戏部门Q3净赚48.9亿 PS4累计销量超过7650万\n",
      "\n",
      "http://new.qq.com/omn/20180202A0MFCT.htmlEA：绝地求生改变了FPS的游戏方式，《战地》也将创新\n",
      "\n",
      "http://new.qq.com/omn/20180202A0M8U7.html玩家自制任天堂Labo，真正的技术永远来自民间\n",
      "\n",
      "http://new.qq.com/omn/20180202A0DZHT.html《最终幻想7重制版》参加SE展会 现场高清照曝光\n",
      "\n",
      "http://new.qq.com/omn/20180202A0B1OG.htmlCFM新版生存特训2.2上线 推出60v60军团作战模式\n",
      "\n",
      "http://new.qq.com/omn/20180201A1A8OT.html王者荣耀霸王别姬春节限时返场 每款售价788点券\n",
      "\n",
      "http://new.qq.com/omn/20180201A18XQP.html老帅宣布离开AG超玩会：很感谢一直以来支持我\n",
      "\n"
     ]
    }
   ],
   "source": [
    "import urllib.request as urlrequest\n",
    "from bs4 import BeautifulSoup\n",
    "\n",
    "games_url=\"http://games.qq.com/\"\n",
    "crawl_content=urlrequest.urlopen(games_url).read().decode('GBK')\n",
    "soup=BeautifulSoup(crawl_content,'html.parser')\n",
    "div_todaynews=soup.find_all(class_='pic_txt_list t_news_list')\n",
    "with open('gamenews.txt','w') as outputfile:\n",
    "    for each_div in div_todaynews:\n",
    "        div_href=each_div.find('a')['href']\n",
    "        div_title=each_div.find('img')['alt']\n",
    "        print('{}{}\\n'.format(div_href,div_title))\n",
    "        outputfile.write('{}{}\\n'.format(div_href,div_title))"
   ]
  },
  {
   "cell_type": "code",
   "execution_count": 35,
   "metadata": {},
   "outputs": [
    {
     "name": "stdout",
     "output_type": "stream",
     "text": [
      "[]\n"
     ]
    }
   ],
   "source": [
    "import urllib.request as urlrequest\n",
    "from bs4 import BeautifulSoup\n",
    "\n",
    "proxy = urlrequest.ProxyHandler({'https': ''})\n",
    "opener = urlrequest.build_opener(proxy)\n",
    "opener.addheaders = [('User-Agent', 'Mozilla/5.0 (Macintosh; Intel Mac OS X 10_12_4) AppleWebKit/603.1.30 (KHTML, like Gecko) Version/10.1 Safari/603.1.30')]\n",
    "urlrequest.install_opener(opener)\n",
    "\n",
    "url=\"http://cd.xiaozhu.com/search-duanzufang-p{}-0/\"\n",
    "for i in range(1,6):\n",
    "    pig_url=url.format(i)\n",
    "    crawl_content=urlrequest.urlretrieve(pig_url).read().decode('utf-8')\n",
    "    soup=BeautifulSoup(crawl_content,'html.parser')\n",
    "    info_=soup.find_all(class_='resule_img_a')\n",
    "    for j in info_:\n",
    "        list1=[]\n",
    "        list1.append(j.get('href'))              #get方法相当于urlopen\n",
    "        for href in list1:\n",
    "            content2=urlrequest.urlopen(href).read().decode('uft-8')\n",
    "            soup2=BeautifulSoup(content2,'html.parser')\n",
    "            title=soup2.find('title').get_text()\n",
    "            score=soup2.find(class_='top_bar_w2 border_right_none').get_text()\n"
   ]
  },
  {
   "cell_type": "code",
   "execution_count": null,
   "metadata": {
    "collapsed": true
   },
   "outputs": [],
   "source": []
  },
  {
   "cell_type": "code",
   "execution_count": null,
   "metadata": {
    "collapsed": true
   },
   "outputs": [],
   "source": []
  }
 ],
 "metadata": {
  "kernelspec": {
   "display_name": "Python 3",
   "language": "python",
   "name": "python3"
  },
  "language_info": {
   "codemirror_mode": {
    "name": "ipython",
    "version": 3
   },
   "file_extension": ".py",
   "mimetype": "text/x-python",
   "name": "python",
   "nbconvert_exporter": "python",
   "pygments_lexer": "ipython3",
   "version": "3.6.2"
  }
 },
 "nbformat": 4,
 "nbformat_minor": 2
}
